{
  "cells": [
    {
      "cell_type": "markdown",
      "id": "f6a428fa",
      "metadata": {
        "id": "f6a428fa"
      },
      "source": [
        "# Checkpoint 3 - Classificadores\n",
        "\n",
        "\n",
        "### Dataset: SPAM\n",
        "\n",
        "Você recebeu dados com frequências de certas palavras e certos caracteres presentes em emails. Os emails foram rotulados entre SPAM e NÃO SPAM. Agora é necessários fazer um código de computador que capture automaticamente se o email é spam ou não baseado nessas informações estatísticas do texto presente nele.\n",
        "\n",
        "Classes alvo:\n",
        "- \"0\": não é SPAM\n",
        "- \"1\": SPAM\n",
        "\n",
        "Mais informações sobre os dados podem ser obtidas em https://www.openml.org/d/44\n",
        "\n",
        "\n",
        "### Instruções\n",
        "\n",
        "Leia atentamente as instruções.\n",
        "\n",
        "1) O trabalho deve ser realizado em grupo de até 4 pessoas. Obrigatoriamente da mesma bancada. \n",
        "\n",
        "2) Você deverá submenter este arquivo Jupyter Notebook com as respostas nos campos indicados. Caso ache necessário, crie células markdown para comentar suas respostas e apontamentos.\n",
        "\n",
        "3) Apenas um aluno submeterá no Teams. Mude o nome do arquivo para as iniciais do seu nome completo seguido do seu RM. Exemplo: HFS84100-CP1\n",
        "\n",
        "4) A entrega deverá ser feita até às <font color='red'>**23h59** </font> de  <font color='red'>**terça (24/05/2022)** </font> na respectiva tarefa no Microsoft Teams.\n",
        "\n",
        "5) As pontuações das questões estão marcadas em cada uma.\n",
        "\n",
        "6) Você pode usar códigos prontos, mas não copiar dos outros grupos. Lembre-se que dificilmente duas pessoas pensam exatamente nos mesmos nomes de variáveis e nas mesmas frases de comentários. <font color='red'>Se forem pegos dois arquivos iguais ou extremamente semelhantes, ambos serão desconsiderados e a nota será zerada para os dois grupos </font>.\n",
        "\n",
        "-------------------------------"
      ]
    },
    {
      "cell_type": "markdown",
      "id": "aea2ba89",
      "metadata": {
        "id": "aea2ba89"
      },
      "source": [
        "## Nomes:\n",
        "\n",
        "Laura Giancoli Aschenbrenner RM 87194\n",
        "\n",
        "Nickolas Pereira dos Santos RM 88103\n",
        "\n",
        "Gabriel Pionte Paulino RM 84539\n",
        "\n",
        "Gabriel Anselmo Pires dos Santos RM 87010\n",
        "\n",
        "---------------------------"
      ]
    },
    {
      "cell_type": "markdown",
      "id": "3608be7e",
      "metadata": {
        "id": "3608be7e"
      },
      "source": [
        "## Questão 1:  Carregue os dados descritivos e alvo na mesma tabela. Responda:\n",
        "\n",
        "(a) Quantas linhas há no dataset?<font color='red'> (0.5 ponto) </font>\n",
        "\n",
        "(b) Quantas colunas há no dataset?<font color='red'> (0.5 ponto) </font>\n",
        "\n",
        "(c) Em média quantas vezes a palavra **money** aparece nos emails?<font color='red'> (0.5 ponto) </font>\n",
        "\n",
        "(d) Qual é a **palavra** que mais aparece nos emails? (dica: use o sort_values no max do dataframe)<font color='red'>  (0.5 ponto) </font>"
      ]
    },
    {
      "cell_type": "code",
      "execution_count": null,
      "id": "739f90d6",
      "metadata": {
        "id": "739f90d6"
      },
      "outputs": [],
      "source": [
        "import pandas as pd\n",
        "from sklearn.datasets import fetch_openml\n",
        "dados = fetch_openml(data_id=44)\n",
        "df_emails = pd.DataFrame(data = dados.data, columns=dados.feature_names)\n",
        "df_emails.info()\n",
        "df_emails.word_freq_money.mean()\n",
        "df_emails.sum().sort_values()\n",
        "\n",
        "## Coloque suas respostas aqui\n",
        "## A: 4601. B: 57. C: 0.0942686372527711. D: word_freq_you é a que mais aparece com 7647.320."
      ]
    },
    {
      "cell_type": "markdown",
      "id": "af186640",
      "metadata": {
        "id": "af186640"
      },
      "source": [
        "## Questão 2:  Faça a separação treino teste. <font color='red'> (1.5 pontos) </font>\n",
        "\n",
        "Coloque os valores descritivos na variável x e os valores alvo na variável y. Use 80% do dataset para treinamento e 20% para teste. Estratifique a separação em y e use 42 como seed para a geração da sequência aleatória."
      ]
    },
    {
      "cell_type": "code",
      "execution_count": 36,
      "id": "9e5fbd6e",
      "metadata": {
        "id": "9e5fbd6e"
      },
      "outputs": [],
      "source": [
        "import pandas as pd\n",
        "from sklearn.datasets import fetch_openml\n",
        "dataset = fetch_openml(data_id=44)\n",
        "target_map = {\n",
        "    '0': 'naoSPAM',\n",
        "    '1': 'spam',\n",
        "}\n",
        "df_emails['alvo'] = [target_map[target] for target in dataset.target]\n",
        "df_emails.describe()\n",
        "df_emails.groupby('alvo').std()\n",
        "df_emails.groupby('alvo').mean()\n",
        "x = df_emails.drop(columns = ['alvo']) \n",
        "y = df_emails['alvo']\n",
        "x_train, x_test, y_train, y_test = train_test_split(x, y, test_size = 0.20, random_state = 42, stratify=y)\n",
        "# Coloque seu código aqui"
      ]
    },
    {
      "cell_type": "markdown",
      "id": "5e54d1b9",
      "metadata": {
        "id": "5e54d1b9"
      },
      "source": [
        "## Questão 3:  Crie um classificador com acurácia maior do que 85%. <font color='red'> (4 pontos) </font>\n",
        "\n",
        "Plote a matriz de confusão e comente os resultados obtidos em cima dos dados de teste.\n",
        "\n",
        "Nesta mesma célula markdown, descreva quais foram as técnicas que você usou para conseguir essa acurácia."
      ]
    },
    {
      "cell_type": "code",
      "execution_count": 51,
      "id": "17faabf2",
      "metadata": {
        "colab": {
          "base_uri": "https://localhost:8080/",
          "height": 455
        },
        "id": "17faabf2",
        "outputId": "7b0a616e-731d-45ef-c696-e4e043fec116"
      },
      "outputs": [
        {
          "output_type": "stream",
          "name": "stdout",
          "text": [
            "              precision    recall  f1-score   support\n",
            "\n",
            "     naoSPAM       0.80      0.90      0.85       558\n",
            "        spam       0.81      0.65      0.72       363\n",
            "\n",
            "    accuracy                           0.80       921\n",
            "   macro avg       0.81      0.78      0.78       921\n",
            "weighted avg       0.80      0.80      0.80       921\n",
            "\n"
          ]
        },
        {
          "output_type": "display_data",
          "data": {
            "text/plain": [
              "<Figure size 1080x360 with 0 Axes>"
            ]
          },
          "metadata": {}
        },
        {
          "output_type": "display_data",
          "data": {
            "text/plain": [
              "<Figure size 432x288 with 2 Axes>"
            ],
            "image/png": "[encoded data removed]"
          },
          "metadata": {
            "needs_background": "light"
          }
        }
      ],
      "source": [
        "from sklearn.model_selection import train_test_split\n",
        "from sklearn.neighbors import KNeighborsClassifier\n",
        "from sklearn.metrics import confusion_matrix, ConfusionMatrixDisplay, plot_confusion_matrix,classification_report\n",
        "import matplotlib.pyplot as plt \n",
        "import numpy as np\n",
        "\n",
        "knn = KNeighborsClassifier(n_neighbors=4)  \n",
        "knn.fit(x_train, y_train)\n",
        "\n",
        "knn.fit(x_train, y_train)\n",
        "y_predicoes = knn.predict(x_test) \n",
        "matriz_confusao = confusion_matrix(y_true = y_test,\n",
        "                                   y_pred = y_predicoes)\n",
        "\n",
        "\n",
        "figure = plt.figure(figsize=(15, 5))\n",
        "disp = ConfusionMatrixDisplay(confusion_matrix = matriz_confusao, display_labels = ['naoSPAM','SPAM'])\n",
        "disp.plot(values_format='d') \n",
        "print(classification_report(y_test, y_predicoes))\n",
        "\n",
        "## Coloque seu código aqui"
      ]
    },
    {
      "cell_type": "code",
      "source": [
        "error = []\n",
        "for i in range(1, 40):\n",
        "    knn = KNeighborsClassifier(n_neighbors=i)\n",
        "    knn.fit(x_train, y_train)\n",
        "    pred_i = knn.predict(x_test)\n",
        "    error.append(np.mean(pred_i != y_test))"
      ],
      "metadata": {
        "id": "rWDnlrxnXY9i"
      },
      "id": "rWDnlrxnXY9i",
      "execution_count": 49,
      "outputs": []
    },
    {
      "cell_type": "code",
      "source": [
        "plt.figure(figsize=(12, 6))\n",
        "plt.plot(range(1, 40), error, color='red', linestyle='dashed', marker='o',\n",
        "         markerfacecolor='blue', markersize=10)\n",
        "plt.title('Error Rate K Value')\n",
        "plt.xlabel('K Value')\n",
        "plt.ylabel('Mean Error')"
      ],
      "metadata": {
        "colab": {
          "base_uri": "https://localhost:8080/",
          "height": 421
        },
        "id": "DI-xwPapXaRZ",
        "outputId": "d03aa755-e6c8-43c9-a093-2b73424da75b"
      },
      "id": "DI-xwPapXaRZ",
      "execution_count": 50,
      "outputs": [
        {
          "output_type": "execute_result",
          "data": {
            "text/plain": [
              "Text(0, 0.5, 'Mean Error')"
            ]
          },
          "metadata": {},
          "execution_count": 50
        },
        {
          "output_type": "display_data",
          "data": {
            "text/plain": [
              "<Figure size 864x432 with 1 Axes>"
            ],
            "image/png": "[encoded data removed]"
          },
          "metadata": {
            "needs_background": "light"
          }
        }
      ]
    },
    {
      "cell_type": "markdown",
      "id": "69dff78d",
      "metadata": {
        "id": "69dff78d"
      },
      "source": [
        "## Questão 4:  Agora seu classificador de spam precisa ter acurácia de 90% e precisão de 90% no escopo dos não spams (label = 1). <font color='red'> (2.5 pontos) </font>\n"
      ]
    },
    {
      "cell_type": "code",
      "execution_count": null,
      "id": "c2293351",
      "metadata": {
        "id": "c2293351"
      },
      "outputs": [],
      "source": [
        "## Coloque seu código aqui"
      ]
    }
  ],
  "metadata": {
    "kernelspec": {
      "display_name": "Python 3",
      "language": "python",
      "name": "python3"
    },
    "language_info": {
      "codemirror_mode": {
        "name": "ipython",
        "version": 3
      },
      "file_extension": ".py",
      "mimetype": "text/x-python",
      "name": "python",
      "nbconvert_exporter": "python",
      "pygments_lexer": "ipython3",
      "version": "3.9.5"
    },
    "colab": {
      "name": "CP3 (Alunos).ipynb",
      "provenance": [],
      "collapsed_sections": []
    }
  },
  "nbformat": 4,
  "nbformat_minor": 5
}