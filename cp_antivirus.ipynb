{
  "nbformat": 4,
  "nbformat_minor": 0,
  "metadata": {
    "colab": {
      "provenance": [],
      "collapsed_sections": [],
      "toc_visible": true
    },
    "kernelspec": {
      "name": "python3",
      "display_name": "Python 3"
    },
    "language_info": {
      "name": "python"
    }
  },
  "cells": [
    {
      "cell_type": "markdown",
      "source": [
        "Arthur Oliveira – rm89187\n",
        "\n",
        "Gabriel Bega – rm87442\n",
        "\n",
        "Gabriel Pionte – rm84539\n",
        "\n",
        "Gustavo Tachira – rm88197\n",
        "\n",
        "Laura Giancoli – rm87194\n",
        "\n",
        "Matheus Lambert – rm87079\n",
        "\n",
        "Nickolas Pereira -  rm88103"
      ],
      "metadata": {
        "id": "0SIAKGqtE2y1"
      }
    },
    {
      "cell_type": "markdown",
      "source": [],
      "metadata": {
        "id": "NNwhgm44qoWa"
      }
    },
    {
      "cell_type": "code",
      "source": [
        "'''\n",
        "Você e sua equipe devem criar uma base de dados para treinar algoritmos de ML para a detecção de vírus.A base de dados deve conter features (fingerprints) de arquivos  de  vírus  e  de  arquivos legítimos.\n",
        "'''"
      ],
      "metadata": {
        "id": "_IATc3r-rP02"
      },
      "execution_count": null,
      "outputs": []
    },
    {
      "cell_type": "code",
      "execution_count": null,
      "metadata": {
        "id": "fejO7z3VuyKG"
      },
      "outputs": [],
      "source": [
        "import pandas as pd\n",
        "from sklearn.datasets import fetch_openml\n",
        "dados = fetch_openml(data_id=43527)"
      ]
    },
    {
      "cell_type": "code",
      "source": [
        "dados"
      ],
      "metadata": {
        "id": "ULsaqRAwyIJZ"
      },
      "execution_count": null,
      "outputs": []
    },
    {
      "cell_type": "code",
      "source": [
        "df_dados = pd.DataFrame(data = dados.data, columns=dados.feature_names)\n",
        "df_dados.head()"
      ],
      "metadata": {
        "id": "ECiINTqXyNPl"
      },
      "execution_count": null,
      "outputs": []
    },
    {
      "cell_type": "code",
      "source": [
        "df_dados.info()"
      ],
      "metadata": {
        "id": "IGDZsH9_2vh5"
      },
      "execution_count": null,
      "outputs": []
    },
    {
      "cell_type": "code",
      "source": [
        "df_dados.sample(frac=0.4)"
      ],
      "metadata": {
        "id": "lFpA7CnWzKIb"
      },
      "execution_count": null,
      "outputs": []
    },
    {
      "cell_type": "code",
      "source": [
        "df_dados.head()"
      ],
      "metadata": {
        "id": "hR7Lasuo1b3h"
      },
      "execution_count": null,
      "outputs": []
    },
    {
      "cell_type": "code",
      "source": [
        "from sklearn.model_selection import train_test_split\n",
        "x = df_dados.drop(columns = ['malware']) # Colunas descritivas\n",
        "y = df_dados['malware']                # Valor alvo\n",
        "\n",
        "# Dividindo conjunto de treinamento e conjunto de teste\n",
        "x_train, x_test, y_train, y_test = train_test_split(x, y, test_size = 0.2, random_state = 42, stratify=y)"
      ],
      "metadata": {
        "id": "4B0A-Qdg13LG"
      },
      "execution_count": null,
      "outputs": []
    },
    {
      "cell_type": "code",
      "source": [
        "from sklearn.preprocessing import StandardScaler, MinMaxScaler # Importando o Escalonador\n",
        "scaler = MinMaxScaler()\n",
        "#Treinando o escalonador\n",
        "\n",
        "scaler.fit(x_train)\n",
        "# Usando o escalonador treinado para transformar os dados\n",
        "x_train_scaled = scaler.transform(x_train)\n",
        "\n",
        "x_test_scaled = scaler.transform(x_test)"
      ],
      "metadata": {
        "id": "ncWxyz3K2vHt"
      },
      "execution_count": null,
      "outputs": []
    },
    {
      "cell_type": "code",
      "source": [
        "#KNN Classificador\n",
        "from sklearn.neighbors import KNeighborsClassifier\n",
        "clf = KNeighborsClassifier(n_neighbors=i)  # Criamos o objeto do classificador (não mudamos nenhum hiperpârametro)\n",
        "\n",
        "clf.fit(x_train_scaled, y_train) # Treinamos o classificador passando apenas o conjunto de dados de treinamento "
      ],
      "metadata": {
        "id": "5p1D1aYR256c"
      },
      "execution_count": null,
      "outputs": []
    },
    {
      "cell_type": "code",
      "source": [
        "#Classificador Random Forest \n",
        "from sklearn.ensemble import RandomForestClassifier\n",
        "clf = RandomForestClassifier(random_state=0)\n",
        "clf.fit(x_train_scaled, y_train)"
      ],
      "metadata": {
        "id": "VRir1MSj9M37"
      },
      "execution_count": null,
      "outputs": []
    },
    {
      "cell_type": "code",
      "source": [
        "#Classificador SVC\n",
        "from sklearn.svm import SVC\n",
        "clf = SVC()\n",
        "clf.fit(x_train_scaled, y_train)\n"
      ],
      "metadata": {
        "id": "UMo2m3u1-uvv"
      },
      "execution_count": null,
      "outputs": []
    },
    {
      "cell_type": "code",
      "source": [
        "#Classificador LDA\n",
        "from sklearn.discriminant_analysis import LinearDiscriminantAnalysis\n",
        "clf = LinearDiscriminantAnalysis()\n",
        "clf.fit(x_train_scaled, y_train)"
      ],
      "metadata": {
        "id": "6KNtPWMx_ij1"
      },
      "execution_count": null,
      "outputs": []
    },
    {
      "cell_type": "code",
      "source": [
        "from sklearn.metrics import confusion_matrix, ConfusionMatrixDisplay, plot_confusion_matrix,classification_report\n",
        "from sklearn.metrics import cohen_kappa_score, roc_auc_score, roc_curve\n",
        "# Perceba que estamos passando apenas o x de teste, afinal o algoritmo é que nos dira qual é o y \n",
        "y_predicoes = clf.predict(x_test_scaled) "
      ],
      "metadata": {
        "id": "wU6nWcEm3sVi"
      },
      "execution_count": null,
      "outputs": []
    },
    {
      "cell_type": "code",
      "source": [
        "import matplotlib.pyplot as plt  \n",
        "import seaborn as sns\n",
        "matriz_confusao = confusion_matrix(y_true = y_test,\n",
        "                                   y_pred = y_predicoes)\n",
        "\n",
        "# plotando uma figura com a matriz de confusao\n",
        "figure = plt.figure(figsize=(15, 5))\n",
        "disp = ConfusionMatrixDisplay(confusion_matrix = matriz_confusao)\n",
        "disp.plot(values_format='d') "
      ],
      "metadata": {
        "id": "yfRjiXD53t_p"
      },
      "execution_count": null,
      "outputs": []
    },
    {
      "cell_type": "code",
      "source": [
        "# Metricas de precisão, revocação, f1-score e acurácia.\n",
        "print(classification_report(y_test, y_predicoes))"
      ],
      "metadata": {
        "id": "xRnXfNZX44qp"
      },
      "execution_count": null,
      "outputs": []
    }
  ]
}